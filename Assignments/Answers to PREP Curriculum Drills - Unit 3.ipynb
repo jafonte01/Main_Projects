{
 "cells": [
  {
   "cell_type": "markdown",
   "metadata": {},
   "source": [
    "# Answers to PREP Curriculum Drills - Unit 3"
   ]
  },
  {
   "cell_type": "markdown",
   "metadata": {},
   "source": [
    "## I decided to complete all of the PREP course assignments in one-fell swoop, so instead of unnecessarily creating multiple files, I combined everything into one comprehensive answer sheet."
   ]
  },
  {
   "cell_type": "code",
   "execution_count": 3,
   "metadata": {},
   "outputs": [],
   "source": [
    "import numpy as np\n",
    "import statistics"
   ]
  },
  {
   "cell_type": "code",
   "execution_count": 4,
   "metadata": {},
   "outputs": [],
   "source": [
    "from scipy import stats"
   ]
  },
  {
   "cell_type": "markdown",
   "metadata": {},
   "source": [
    "## Lesson 1 - Part 5: Describing Data\n",
    "\n",
    "1. Greg was 14, Marcia was 12, Peter was 11, Jan was 10, Bobby was 8, and Cindy was 6 when they started playing the Brady kids on The Brady Bunch. Cousin Oliver was 8 years old when he joined the show. What are the mean, median, and mode of the kids' ages when they first appeared on the show? What are the variance, standard deviation, and standard error?\n",
    "\n"
   ]
  },
  {
   "cell_type": "code",
   "execution_count": 10,
   "metadata": {},
   "outputs": [
    {
     "name": "stdout",
     "output_type": "stream",
     "text": [
      "The mean age of the Brady kids when the kids first joined the show is 9.857142857142858.\n",
      "\n",
      "The median age of the Brady kids when the kids first joined the show is 10.0.\n",
      "\n",
      "The mode age of the Brady kids when the kids first joined the show is ModeResult(mode=array([8]), count=array([2])).\n",
      "\n",
      "The standard deviation of the age of the Brady kids when the kids first joined the show is 2.531435020952764.\n",
      "\n",
      "The variance of the age of the Brady kids when the kids first joined the show is 6.408163265306122.\n",
      "\n",
      "The standard error of the mean age of the Brady kids when the kids first joined the show is 1.0334540197243192.\n"
     ]
    }
   ],
   "source": [
    "g = 14\n",
    "m = 12\n",
    "p = 11\n",
    "j = 10\n",
    "b = 8\n",
    "c = 6\n",
    "o = 8\n",
    "brady = [g, m, p, j, b, c, o]\n",
    "\n",
    "print(\"The mean age of the Brady kids when the kids first joined the show is {}.\".format(np.mean(brady)))\n",
    "\n",
    "print(\"\\nThe median age of the Brady kids when the kids first joined the show is {}.\".format(np.median(brady)))\n",
    "\n",
    "print(\"\\nThe mode age of the Brady kids when the kids first joined the show is {}.\".format(stats.mode(brady)))\n",
    "\n",
    "print(\"\\nThe standard deviation of the age of the Brady kids when the kids first joined the show is {}.\".format(np.std(brady)))\n",
    "\n",
    "print(\"\\nThe variance of the age of the Brady kids when the kids first joined the show is {}.\".format(np.var(brady)))\n",
    "\n",
    "print(\"\\nThe standard error of the mean age of the Brady kids when the kids first joined the show is {}.\".format(stats.sem(brady)))\n",
    "\n"
   ]
  },
  {
   "cell_type": "markdown",
   "metadata": {},
   "source": [
    "2. Using these estimates, if you had to choose only one estimate of central tendency and one estimate of variance to describe the data, which would you pick and why?"
   ]
  },
  {
   "cell_type": "markdown",
   "metadata": {},
   "source": [
    "__ANSWER:__ I would choose the average over the median as the estimate of central tendency. The range between the lowest value and the highest value is only 8, and every number is within at most two numbers away from another data point. Likewise, The standard deviation is the preferred estimate of variance, as it indicates an approximation of about how much dispersion of ages there is from this central tendency. There is not significant deviation, and in turn not a significant variance, and so variance would not aid us in estimating the dispersion here. Standard error is not used here, since there we have a single population - there is no need to compare variance between \"sample\" populations."
   ]
  },
  {
   "cell_type": "markdown",
   "metadata": {},
   "source": [
    "3. Next, Cindy has a birthday. Update your estimates- what changed, and what didn't?"
   ]
  },
  {
   "cell_type": "code",
   "execution_count": 13,
   "metadata": {},
   "outputs": [
    {
     "name": "stdout",
     "output_type": "stream",
     "text": [
      "The mean age of the Brady kids when the kids first joined the show is 10.142857142857142.\n",
      "\n",
      "The median age of the Brady kids when the kids first joined the show is 10.0.\n",
      "\n",
      "The mode age of the Brady kids when the kids first joined the show is ModeResult(mode=array([8]), count=array([3])).\n",
      "\n",
      "The standard deviation of the age of the Brady kids when the kids first joined the show is 2.166535841157586.\n",
      "\n",
      "The variance of the age of the Brady kids when the kids first joined the show is 4.693877551020408.\n",
      "\n",
      "The standard error of the mean age of the Brady kids when the kids first joined the show is 0.8844845533812719.\n"
     ]
    }
   ],
   "source": [
    "c += 1\n",
    "\n",
    "brady = [g, m, p, j, b, c, o]\n",
    "\n",
    "print(\"The mean age of the Brady kids when the kids first joined the show is {}.\".format(np.mean(brady)))\n",
    "\n",
    "print(\"\\nThe median age of the Brady kids when the kids first joined the show is {}.\".format(np.median(brady)))\n",
    "\n",
    "print(\"\\nThe mode age of the Brady kids when the kids first joined the show is {}.\".format(stats.mode(brady)))\n",
    "\n",
    "print(\"\\nThe standard deviation of the age of the Brady kids when the kids first joined the show is {}.\".format(np.std(brady)))\n",
    "\n",
    "print(\"\\nThe variance of the age of the Brady kids when the kids first joined the show is {}.\".format(np.var(brady)))\n",
    "\n",
    "print(\"\\nThe standard error of the mean age of the Brady kids when the kids first joined the show is {}.\".format(stats.sem(brady)))\n"
   ]
  },
  {
   "cell_type": "markdown",
   "metadata": {},
   "source": [
    "__ANSWER:__ The average changed slightly and all estimates of variance changed slightly but the median and mode did not change. This is because median is independent of the values of the numbers - only the numerical order of the numbers, and the mode of a dataset only addresses the quantity of a specific value, not the values themselves."
   ]
  },
  {
   "cell_type": "markdown",
   "metadata": {},
   "source": [
    "4. Nobody likes Cousin Oliver. Maybe the network should have used an even younger actor. Replace Cousin Oliver with 1-year-old Jessica, then recalculate again. Does this change your choice of central tendency or variance estimation methods?"
   ]
  },
  {
   "cell_type": "code",
   "execution_count": 14,
   "metadata": {},
   "outputs": [
    {
     "name": "stdout",
     "output_type": "stream",
     "text": [
      "The mean age of the Brady kids when the kids first joined the show is 9.142857142857142.\n",
      "\n",
      "The median age of the Brady kids when the kids first joined the show is 10.0.\n",
      "\n",
      "The mode age of the Brady kids when the kids first joined the show is ModeResult(mode=array([8]), count=array([2])).\n",
      "\n",
      "The standard deviation of the age of the Brady kids when the kids first joined the show is 3.8703477668983046.\n",
      "\n",
      "The variance of the age of the Brady kids when the kids first joined the show is 14.979591836734695.\n",
      "\n",
      "The standard error of the mean age of the Brady kids when the kids first joined the show is 1.5800628593368629.\n"
     ]
    }
   ],
   "source": [
    "jess = 1\n",
    "brady = [g, m, p, j, b, c, jess]\n",
    "\n",
    "\n",
    "print(\"The mean age of the Brady kids when the kids first joined the show is {}.\".format(np.mean(brady)))\n",
    "\n",
    "print(\"\\nThe median age of the Brady kids when the kids first joined the show is {}.\".format(np.median(brady)))\n",
    "\n",
    "print(\"\\nThe mode age of the Brady kids when the kids first joined the show is {}.\".format(stats.mode(brady)))\n",
    "\n",
    "print(\"\\nThe standard deviation of the age of the Brady kids when the kids first joined the show is {}.\".format(np.std(brady)))\n",
    "\n",
    "print(\"\\nThe variance of the age of the Brady kids when the kids first joined the show is {}.\".format(np.var(brady)))\n",
    "\n",
    "print(\"\\nThe standard error of the mean age of the Brady kids when the kids first joined the show is {}.\".format(stats.sem(brady)))"
   ]
  },
  {
   "cell_type": "markdown",
   "metadata": {},
   "source": [
    "__ANSWER__: My choice of central tendency DOES CHANGE but my choice for an estimate of variation DOES NOT change. An age of 1 is greatly outside of the general range of the other values, causing the standard deviation to nearly double from the previous dataset, and in turn, nearly quadruple the variance. Standard deviation reflects how many deviations are required to account for all the points in a dataset from the mean."
   ]
  },
  {
   "cell_type": "markdown",
   "metadata": {},
   "source": [
    "5. On the 50th anniversary of The Brady Bunch, four different magazines asked their readers whether they were fans of the show. The answers were: TV Guide 20% fans Entertainment Weekly 23% fans Pop Culture Today 17% fans SciPhi Phanatic 5% fans. Based on these numbers, what percentage of adult Americans would you estimate were Brady Bunch fans on the 50th anniversary of the show?"
   ]
  },
  {
   "cell_type": "markdown",
   "metadata": {},
   "source": [
    "__ANSWER:__ ASSUMING that each magazine polled the same number of fans AND ASSUMING that EACH of these magazines' readers are a reliable representative sample of the adult American population, the estimation of percentage of adult Americans that were Brady Bunch fans on the 50th anniversary of the show is:"
   ]
  },
  {
   "cell_type": "code",
   "execution_count": 16,
   "metadata": {},
   "outputs": [
    {
     "name": "stdout",
     "output_type": "stream",
     "text": [
      "16.25%.\n"
     ]
    }
   ],
   "source": [
    "readersamples = [20, 23, 17, 5]\n",
    "print(str(np.mean(readersamples)) + \"%.\")"
   ]
  },
  {
   "cell_type": "markdown",
   "metadata": {},
   "source": [
    "## Lesson 2 - Part 4: Exercises in Probability\n",
    "1. Calculate the probability of flipping a balanced coin four times and getting each pattern: HTTH, HHHH and TTHH."
   ]
  },
  {
   "cell_type": "code",
   "execution_count": 5,
   "metadata": {},
   "outputs": [],
   "source": [
    "import math"
   ]
  },
  {
   "cell_type": "code",
   "execution_count": 23,
   "metadata": {},
   "outputs": [],
   "source": [
    "# 'k' number of heads in 'n' total flips\n",
    "\n",
    "def permut(k,n):\n",
    "    denom = n - k\n",
    "    permutation = (math.factorial(n) / math.factorial(denom))\n",
    "    probsuccess = (1 / 2) ** n\n",
    "    probfailure = (1 / 2) ** (n - k)\n",
    "    return  permutation * probsuccess * probfailure"
   ]
  },
  {
   "cell_type": "code",
   "execution_count": 28,
   "metadata": {},
   "outputs": [
    {
     "name": "stdout",
     "output_type": "stream",
     "text": [
      "The probability of getting the pattern HTTH from a balanced coin is 18.75%.\n",
      "The probability of getting the pattern HHHH from a balanced coin is 6.25%.\n",
      "The probability of getting the pattern TTHH from a balanced coin is 18.75%.\n"
     ]
    }
   ],
   "source": [
    "print('The probability of getting the pattern HTTH from a balanced coin is {}%.'.format(permut(2,4) * 100))\n",
    "print('The probability of getting the pattern HHHH from a balanced coin is {}%.'.format(permut(4,4) * 100 / 24)) \n",
    "#^^^ order does not matter for this one, so you divide by k!, i.e., 24.\n",
    "print('The probability of getting the pattern TTHH from a balanced coin is {}%.'.format(permut(2,4) * 100))\n",
    "                                                                                        "
   ]
  },
  {
   "cell_type": "markdown",
   "metadata": {},
   "source": [
    "2. If a list of people has 24 women and 21 men, then the probability of choosing a man from the list is 21/45. What is the probability of not choosing a man?"
   ]
  },
  {
   "cell_type": "code",
   "execution_count": 31,
   "metadata": {},
   "outputs": [
    {
     "name": "stdout",
     "output_type": "stream",
     "text": [
      "The probability of not choosing a man is the sample space less the probability of choosing a man.\n",
      "The probability of not choosing a man is 53.333333333333336%.\n"
     ]
    }
   ],
   "source": [
    "print('The probability of not choosing a man is the sample space less the probability of choosing a man.')\n",
    "print('The probability of not choosing a man is {}%.'.format((1 - 21 / 45) *100))"
   ]
  },
  {
   "cell_type": "markdown",
   "metadata": {},
   "source": [
    "3. The probability that Bernice will travel by plane sometime in the next year is 10%. The probability of a plane crash at any time is .005%. What is the probability that Bernice will be in a plane crash sometime in the next year?"
   ]
  },
  {
   "cell_type": "code",
   "execution_count": 33,
   "metadata": {},
   "outputs": [
    {
     "name": "stdout",
     "output_type": "stream",
     "text": [
      "The probability that Bernice will be in a plane crash sometime next year is 0.0005%.\n"
     ]
    }
   ],
   "source": [
    "print('The probability that \\\n",
    "Bernice will be in a plane crash sometime next year is {}%.'.format(.1 * .00005 * 100))"
   ]
  },
  {
   "cell_type": "markdown",
   "metadata": {},
   "source": [
    "4. A data scientist wants to study the behavior of users on the company website. Each time a user clicks on a link on the website, there is a 5% chance that the user will be asked to complete a short survey about their behavior on the website. The data scientist uses the survey data to conclude that, on average, users spend 15 minutes surfing the company website before moving on to other things. What is wrong with this conclusion?"
   ]
  },
  {
   "cell_type": "markdown",
   "metadata": {},
   "source": [
    "__ANSWER:__ The probability of a short survey popping up is based on _number of clicks_ while on the website - NOT the average amount of time spent on the website. A user can be on the website for days and not be asked to complete a survey if he never clicked once.  Likewise, a user can click on 20 links within a minute, which would likely trigger a short survey pop-up. Therefore, the 15 minutes conclusion is meaningless in reference to this particular probability."
   ]
  },
  {
   "cell_type": "markdown",
   "metadata": {},
   "source": [
    "## Lesson 2 - Part 6: Exercises in Bayes' Rule\n",
    "\n",
    "Now it's time to use Bayes' rule to compute some conditional probabilities. First look over the numbers and estimate each of the four probabilities, using your intuition. Then, calculate the probabilities using Bayes' rule. \n",
    "\n",
    "A diagnostic test has a 98% probability of giving a positive result when applied to a person suffering from Thripshaw's Disease, and 10% probability of giving a (false) positive when applied to a non-sufferer. It is estimated that 0.5 % of the population are sufferers. Suppose that the test is now administered to a person whose disease status is unknown. Calculate the probability that the test will:"
   ]
  },
  {
   "cell_type": "markdown",
   "metadata": {},
   "source": [
    "1. Be positive"
   ]
  },
  {
   "cell_type": "code",
   "execution_count": 47,
   "metadata": {},
   "outputs": [],
   "source": [
    "def bayes(a, b, c):\n",
    "    nona = 1 - a\n",
    "    nonb = 1 - b\n",
    "    numerator = a * b\n",
    "    denominator = (a * b) + (c * nonb)\n",
    "    return \"The percent probability according to Bayes' Rule is {}%.\".format(numerator / denominator * 100)"
   ]
  },
  {
   "cell_type": "code",
   "execution_count": 48,
   "metadata": {},
   "outputs": [
    {
     "name": "stdout",
     "output_type": "stream",
     "text": [
      "The percent probability of showing a positive result is 9.9549%.\n"
     ]
    }
   ],
   "source": [
    "# what question 1 is asking for is the denominator of Bayes' Theorem:\n",
    "\n",
    "print(\"The percent probability of showing a positive result is {}%.\"\n",
    "     .format((.98 * .005) + (.1 * .995 * 100)))"
   ]
  },
  {
   "cell_type": "markdown",
   "metadata": {},
   "source": [
    "2. Correctly diagnose a sufferer of Thripshaw's"
   ]
  },
  {
   "cell_type": "markdown",
   "metadata": {},
   "source": [
    "__ANSWER:__ = __98%__ (this information was given in the facts)"
   ]
  },
  {
   "cell_type": "markdown",
   "metadata": {},
   "source": [
    "3. Correctly identify a non-sufferer of Thripshaw's"
   ]
  },
  {
   "cell_type": "markdown",
   "metadata": {},
   "source": [
    "__ANSWER:__ Sample space (100%) - probability of _incorrectly_ identifying a non-sufferer (10%, given in facts) = __90%__"
   ]
  },
  {
   "cell_type": "markdown",
   "metadata": {},
   "source": [
    "4. Misclassify the person"
   ]
  },
  {
   "cell_type": "code",
   "execution_count": 49,
   "metadata": {},
   "outputs": [
    {
     "name": "stdout",
     "output_type": "stream",
     "text": [
      "The percent probability of misclassifying a person is 9.959999999999997%.\n"
     ]
    }
   ],
   "source": [
    "# misclassify means incorrect diagnosis\n",
    "# i.e., misclassify = (positive for non-sufferer) + (negative for sufferer)\n",
    "\n",
    "posnonsufferer = (1 - .98) * .005\n",
    "negsufferer = (1 - .9) * .995\n",
    "\n",
    "print(\"The percent probability of misclassifying a person is {}%.\"\n",
    "     .format((posnonsufferer + negsufferer) * 100))"
   ]
  },
  {
   "cell_type": "markdown",
   "metadata": {},
   "source": [
    "5. Were your intuitions on the mark, or way off? "
   ]
  },
  {
   "cell_type": "markdown",
   "metadata": {},
   "source": [
    "__ANSWER:__ I may be missing something, but these five questions did not utilize Bayes' Theorem equation (which I preemptively went out of my way to create a function of). In that respect, my intuitions for the purposes of this exercise were way off.\n",
    "\n",
    "As for answering what the question is intending to ask, Bayes' Theorem is not intuitive, particularly, how the larger the population is, the smaller probability that a true positive result is expected. Nonetheless, as a left-brained individual (and now, as a data scientist), I trust the math."
   ]
  },
  {
   "cell_type": "markdown",
   "metadata": {},
   "source": [
    "### Lesson 2 - Part 7: Evaluating Data Sources\n",
    "\n",
    "0. In each of the scenarios, find possible shortcomings of the theoretical or actual data sources to answer the given question. What could be done to either adjust the analysis or reframe the question so that you can answer it accurately?\n",
    "\n",
    "1. Data Source: Amsterdam availability data scraped from AirBnB on December 24th. Question: What are the popular neighborhoods in Amsterdam?\n",
    "\n",
    "__ANSWER:__ The quality of the data is diminished based on (a) the limitation of a single day in the data, (b) the exceptional circumstance of the particular day used for the data, and (c) the bias of the data as a result of AirBnB .\n",
    "\n",
    "For (a), it is almost impossible to reliably determine the popularity of certain neighborhoods in Amsterdam based on a single day. It is a small sample set that has no comparative or averaging factor. The popularity of this single day could be widely different from the popularity of neighborhoods in different seasons, or even the week before simply due to random fluctuations of AirBnB within the data's noise. In short, a single day is not a reliable dataset to represent the popularity of neighborhoods _in general._\n",
    "\n",
    "For (b), it is no surprise that December 24th, Christmas Eve Day, is not representative of any normal day. People often travel during the holidays, meaning that tourism (and therefore AirBnB usage) is artificially inflated when compared to the norm. Because Christmas Eve could be considered an \"exceptional circumstance\" instead of a normal day for Amsterdam tourism, this dataset is not good to conclude popularity of neighborhoods in Amsterdam.\n",
    "\n",
    "For (c), the \"popularity of neighborhoods\" is determined by AirBnB usage.  There are three problems with this logical leap. First, there is a clear assumption that the higher the AirBnB usage, the more popular the Amsterdam neighborhood is. Data would need to support that inference. Perhaps there is a large refugee migration into Amsterdam who could not afford normal hotels. Therefore, they fill up AirBnBs wherever there may be. \n",
    "\n",
    "Second, there would need to be a clear assumption that AirBnB availability and accessibility is the same across all of Amsterdam. People may choose one neighborhood over another not because one neighborhood is \"more popular\" but because obtaining an AirBnB is easier (and maybe even cheaper) in a particular neighborhood.\n",
    "\n",
    "Third, it is improper to conclude the popularity of Amsterdam neighborhoods unless it can be shown that general occupancy of AirBnBs is the same across all demographics. AirBnBs may be more likely occupied by the more tech-savvy younger generation, or by tourists who cannot afford more suitable yet more expensive hotels. Therefore, even assuming that the above assumptions in the data are not factors, the conclusion must still be limited to the popularity of neighborhoods for younger and poorer tourists, not for general popularity.\n"
   ]
  },
  {
   "cell_type": "markdown",
   "metadata": {},
   "source": [
    "2. Data Source: Mental health services use on September 12, 2001 in San Francisco, CA and New York City, NY. Question: How do patterns of mental health service use vary between cities?\n",
    "\n",
    "__ANSWER:__ To echo the problems with single-day data in question 1. above, the data is skewed for the use of a single day. The use of mental health services on a single day may be different depending on the season, the weather, which day of the week it is, or for a variety of other factors. Also, September 12, 2001 is the day after September 11th, 2001, where NYC suffered a terrible tragedy of death and destruction. Those suffering from acute mental trauma will likely seek out mental health services, thus artificially inflating the numbers for NYC. There is no comparable artificial inflation for San Francisco.\n",
    "\n",
    "There is also an issue with scope for \"mental health services.\" The term is not defined; a patient does not come into a clinic for \"mental health services;\" that person may come in for depression treatment, addiction groups, LGBT support, PTSD, or in the case of NYC on 9/11, acute mental trauma assistance. Total mental health services could be compared proportionally/in a normalized fashion, but that comparison does not give any meaningful conclusions about what it means for the cities' denizens to use \"mental health services.\""
   ]
  },
  {
   "cell_type": "markdown",
   "metadata": {},
   "source": [
    "3. Data Source: [Armenian Pub Survey](https://www.kaggle.com/erikhambardzumyan/pubs). Question: What are the most common reasons Armenians visit local pubs?"
   ]
  },
  {
   "cell_type": "markdown",
   "metadata": {},
   "source": [
    "__ANSWER:__ There are a significant number of limitations with this dataset. At the outset, there are only 175 data points. The reliability of any conclusions drawn from a [relatively] small dataset comes into question with that size.\n",
    "\n",
    "Second, the polling period spans less than two weeks - February 25th to March 5th. The time-related bias issues that are discussed above are echoed here. It would have been better to take a poll at sporadic times throughout the year for a more representative sample.\n",
    "\n",
    "Third, well over 90% of the respondents are students (with almost all ages ranging from 18 to 22). This is clearly not a representative population of \"Armenians.\" It is unclear where this dataset what obtained from - was it one college campus, one bar, or from a multitude of bars across Armenia? It is obviously biased if the data were coming from a college campus; college students are a very particular socioeconomic demographic. If it were coming from one bar, that particular bar's theme and atmosphere may only draw one kind of patron to it (this may be especially true if it's a \"college bar\"). It is likely that this \"college bar\" theory holds true, as the majority of the respondents' primary importance to go to pubs was the \"environment.\"\n",
    "\n",
    "Finally, students are notorious for being broke (source: I'm one of them); a significant number of respondents indicated zero income (which may be inaccurate, since they need at least _some_ money to purchase pub items). The reasons for going to a bar may be different than those who have money, who may frequent bars more, order different things, and overall have different (i.e., non-financial) motivations to go to bars in the first place."
   ]
  },
  {
   "cell_type": "markdown",
   "metadata": {},
   "source": [
    "### Lesson 2 - Part 8: Beware of Monty Hall Problem\n",
    "\n",
    "One of the classic problems in this space is referred to as the Monty Hall Problem. Some people even use this as an interview question! It is deceptively simple, and really digging into it reveals a myriad of approaches and some serious applications of conditional probability. The story goes like this:\n",
    "\n",
    "You are on a game show and given the choice of whatever is behind three doors. Behind one door is a fantastic prize (some examples use a car, others use cash) while behind the other two doors is a dud (some examples say a goat, others say it's just empty). You pick a door. Then the host opens one of the other two doors to reveal a dud. But here's the wrinkle: the host now gives you the opportunity to switch your door. What should you do?\n",
    "\n",
    "Write up some notes on this problem, including how you think Bayes' Rule might apply. Drop a link to your notes below and discuss it with your mentor."
   ]
  },
  {
   "cell_type": "markdown",
   "metadata": {},
   "source": [
    "__ANSWER__: Probability-wise^, __you should _always_ take advantage of the opportunity and switch the door.__\n",
    "\n",
    "In order to fully analyze this famous problem, let's clarify some of the facts:\n",
    "1. The host will NEVER open the door that has the fantastic prize. (p(Dx|Dx) = 0%)\n",
    "2. The host will NEVER open the door that you initially chose.\n",
    "3. The probability of the fantastic prize being behind any one door is the same for all doors (p(Dx) = 33.3%) (there's no harm in expressly stating this).\n",
    "\n",
    "For the initial choice (\"C1\"), you have a 1/3 chance of guessing correctly and, therefore, a 2/3 choice of guessing incorrectly. If you are given a second choice (\"C2\"), i.e., being able to switch your 66.7% chance incorrect door to another door, your chances are thereby increased to switching to a 66.7% chance correct door. Based on 1. and 2. above, the 66.7% chance is retained by the host taking one of the three doors out of the equation. To illustrate this counterintuitive conclusion in plain terms, consider the following:\n",
    "\n",
    "Assume Door \"A\" has the fantastic prize \"car\" behind it. Here is the sample space for _not_ switching doors.\n",
    "\n",
    "1. You pick [Door] A. Monty opens B or C revealing a goat. You do not switch to the door he didn't open. You win.\n",
    "\n",
    "2. You pick B. Monty won't open A to reveal the car so he opens C. You do not switch to the door he didn't open. You lose.\n",
    "\n",
    "3. You pick C. Monty again won't open A to reveal the car so he opens B. You do not switch to the door he didn't open. You lose.\n",
    "\n",
    "By not switching, you win only 33.3% of the time. Here is the sample space _for_ switching doors, again with Door \"A\" having the car behind it. \n",
    "\n",
    "1. You pick A. Monty opens B or C revealing a goat. You switch to the one he didn't open. You lose.\n",
    "\n",
    "2. You pick B. Monty won't open A to reveal the car so he opens C. Now you know C has a goat so you won't switch to C if you switch, you will switch to A so you win.\n",
    "\n",
    "3. You pick C. Monty again won't open A to reveal the car so he opens B. Now you know B has a goat so you won't switch to B if you switch, you switch to A so you win.\n",
    "\n",
    "Now, by switching as your C2, you win 66.7% of the time.\n",
    "\n",
    "Generally speaking, Bayes' theorem posits that for the probability of an event, that probability is more accurately assessed with more knowledge of prior conditions (in short, more information --> more accurate probability). For Monty Hall, because the host only opens an incorrect door, this \"more information\" translates to the remaining door more accurately being the door with the prize behind it.  In a more intuitive sense, instead of there being three doors, let's say the host has a car behind 1 out of 100 doors. If you chose door 10 for example, and the host then opens every single door except for door 74, you as the contestant would be much much more likely to switch with the new information that 98 doors do not have the car behind it.\n",
    "\n",
    "Using Python analytically, I found __[this website's usage of Bayes' Theorem](https://medium.com/@NickDoesData/applying-bayes-theorem-simulating-the-monty-hall-problem-with-python-5054976d1fb5)__ to figure out Monty Hall probabilities to be an amazing and relevant help. \n",
    "\n",
    "***\n",
    "^I say \"probability-wise\" because of anecdotal evidence to the contrary. I spent literally over ten minutes (600 seconds) straight with a friend running through the Monty Hall problem using three cards - one red and two black. My friend purposely did not switch every time. Even though I shuffled the cards every time to avoid bends/visible defects on the cards that would tip him off to the correct or wrong card, he managed to get the red/prize card about 50% of the time. I lost faith in mathematics due to my ostensibly clairvoyant comrade."
   ]
  },
  {
   "cell_type": "markdown",
   "metadata": {},
   "source": [
    "### Lesson 3 - Part 4: Descriptive Statistics and Normality\n",
    "\n",
    "For each of the 6 distributions available in NumPy, called [“Distributions”](https://docs.scipy.org/doc/numpy/reference/routines.random.html#distributions):\n",
    "\n",
    "1. Generate a random variable with 100 datapoints using the code distributionvar = np.random.distributionname([arguments], 100), replacing distributionvar with an appropriate variable name and distributionname with the name of the distribution you’ve chosen, and filling in the empty space in the parentheses with your chosen values for the appropriate parameters. If you feel uncertain about how to do this, go back to the “Other Distributions” assignment for examples of code to use as a starting point."
   ]
  },
  {
   "cell_type": "code",
   "execution_count": 6,
   "metadata": {},
   "outputs": [],
   "source": [
    "distbinomial = np.random.binomial(20, .5, 100)\n",
    "distexponential = np.random.exponential(10, 100)\n",
    "distgamma = np.random.gamma(5, 1, 100)\n",
    "distgeometric = np.random.geometric(.5, 100)\n",
    "distnormal = np.random.normal(1, 50, 100)\n",
    "distpoisson = np.random.poisson(3, 100)"
   ]
  },
  {
   "cell_type": "markdown",
   "metadata": {},
   "source": [
    "2. Graph the variable using a histogram."
   ]
  },
  {
   "cell_type": "markdown",
   "metadata": {},
   "source": [
    "3. Compute the mean and standard deviation and plot them as vertical lines on the histogram. (Hint: the “When Does It Break?” assignment you just completed can help you here.)"
   ]
  },
  {
   "cell_type": "code",
   "execution_count": 7,
   "metadata": {},
   "outputs": [],
   "source": [
    "import matplotlib.pyplot as plt\n",
    "%matplotlib inline"
   ]
  },
  {
   "cell_type": "code",
   "execution_count": 14,
   "metadata": {},
   "outputs": [
    {
     "data": {
      "image/png": "[encoded data removed]",
      "text/plain": [
       "<Figure size 432x288 with 1 Axes>"
      ]
     },
     "metadata": {
      "needs_background": "light"
     },
     "output_type": "display_data"
    }
   ],
   "source": [
    "plt.hist(distbinomial) # general histogram production\n",
    "\n",
    "plt.axvline(distbinomial.mean(), color='orange', \n",
    "            linestyle='solid', linewidth=2) # identifying mean\n",
    "plt.axvline(distbinomial.mean() + distbinomial.std(), color='orange', \n",
    "            linestyle='dashed', linewidth=2) # line for one std above \n",
    "plt.axvline(distbinomial.mean() - distbinomial.std(), color='orange', \n",
    "            linestyle='dashed', linewidth=2) # line for one std below\n",
    "\n",
    "plt.show()"
   ]
  },
  {
   "cell_type": "code",
   "execution_count": 15,
   "metadata": {},
   "outputs": [
    {
     "data": {
      "image/png": "[encoded data removed]",
      "text/plain": [
       "<Figure size 432x288 with 1 Axes>"
      ]
     },
     "metadata": {
      "needs_background": "light"
     },
     "output_type": "display_data"
    }
   ],
   "source": [
    "plt.hist(distexponential)\n",
    "\n",
    "plt.axvline(distexponential.mean(), color='orange', \n",
    "            linestyle='solid', linewidth=2) # identifying mean\n",
    "plt.axvline(distexponential.mean() + distexponential.std(), color='orange', \n",
    "            linestyle='dashed', linewidth=2) # line for one std above \n",
    "plt.axvline(distexponential.mean() - distexponential.std(), color='orange', \n",
    "            linestyle='dashed', linewidth=2) # line for one std below\n",
    "\n",
    "plt.show()"
   ]
  },
  {
   "cell_type": "code",
   "execution_count": 16,
   "metadata": {},
   "outputs": [
    {
     "data": {
      "image/png": "[encoded data removed]",
      "text/plain": [
       "<Figure size 432x288 with 1 Axes>"
      ]
     },
     "metadata": {
      "needs_background": "light"
     },
     "output_type": "display_data"
    }
   ],
   "source": [
    "plt.hist(distgamma)\n",
    "\n",
    "plt.axvline(distgamma.mean(), color='orange', \n",
    "            linestyle='solid', linewidth=2) # identifying mean\n",
    "plt.axvline(distgamma.mean() + distgamma.std(), color='orange', \n",
    "            linestyle='dashed', linewidth=2) # line for one std above \n",
    "plt.axvline(distgamma.mean() - distgamma.std(), color='orange', \n",
    "            linestyle='dashed', linewidth=2) # line for one std below\n",
    "\n",
    "plt.show()"
   ]
  },
  {
   "cell_type": "code",
   "execution_count": 17,
   "metadata": {},
   "outputs": [
    {
     "data": {
      "image/png": "[encoded data removed]",
      "text/plain": [
       "<Figure size 432x288 with 1 Axes>"
      ]
     },
     "metadata": {
      "needs_background": "light"
     },
     "output_type": "display_data"
    }
   ],
   "source": [
    "plt.hist(distgeometric)\n",
    "\n",
    "plt.axvline(distgeometric.mean(), color='orange', \n",
    "            linestyle='solid', linewidth=2) # identifying mean\n",
    "plt.axvline(distgeometric.mean() + distgeometric.std(), color='orange', \n",
    "            linestyle='dashed', linewidth=2) # line for one std above \n",
    "plt.axvline(distgeometric.mean() - distgeometric.std(), color='orange', \n",
    "            linestyle='dashed', linewidth=2) # line for one std below\n",
    "\n",
    "plt.show()"
   ]
  },
  {
   "cell_type": "code",
   "execution_count": 18,
   "metadata": {},
   "outputs": [
    {
     "data": {
      "image/png": "[encoded data removed]",
      "text/plain": [
       "<Figure size 432x288 with 1 Axes>"
      ]
     },
     "metadata": {
      "needs_background": "light"
     },
     "output_type": "display_data"
    }
   ],
   "source": [
    "plt.hist(distnormal)\n",
    "\n",
    "plt.axvline(distnormal.mean(), color='orange', \n",
    "            linestyle='solid', linewidth=2) # identifying mean\n",
    "plt.axvline(distnormal.mean() + distnormal.std(), color='orange', \n",
    "            linestyle='dashed', linewidth=2) # line for one std above \n",
    "plt.axvline(distnormal.mean() - distnormal.std(), color='orange', \n",
    "            linestyle='dashed', linewidth=2) # line for one std below\n",
    "\n",
    "plt.show()"
   ]
  },
  {
   "cell_type": "code",
   "execution_count": 19,
   "metadata": {},
   "outputs": [
    {
     "data": {
      "image/png": "[encoded data removed]",
      "text/plain": [
       "<Figure size 432x288 with 1 Axes>"
      ]
     },
     "metadata": {
      "needs_background": "light"
     },
     "output_type": "display_data"
    }
   ],
   "source": [
    "plt.hist(distpoisson)\n",
    "\n",
    "plt.axvline(distpoisson.mean(), color='orange', \n",
    "            linestyle='solid', linewidth=2) # identifying mean\n",
    "plt.axvline(distpoisson.mean() + distpoisson.std(), color='orange', \n",
    "            linestyle='dashed', linewidth=2) # line for one std above \n",
    "plt.axvline(distpoisson.mean() - distpoisson.std(), color='orange', \n",
    "            linestyle='dashed', linewidth=2) # line for one std below\n",
    "\n",
    "plt.show()"
   ]
  },
  {
   "cell_type": "markdown",
   "metadata": {},
   "source": [
    "4. Evaluate whether the descriptive statistics provided useful information about the variable. Can you identify any common characteristics of the distributions that could be usefully described using the mean and/or standard deviation, versus the ones that could not?"
   ]
  },
  {
   "cell_type": "markdown",
   "metadata": {},
   "source": [
    "__ANSWER:__ Means are more useful when there is a single peak on the graph, such as the normal, geometric, and exponential distributions. The standard deviations are spread out much more in distributions that have multiple peaks, such as the poisson, binomial, and gamma."
   ]
  },
  {
   "cell_type": "markdown",
   "metadata": {},
   "source": [
    "5. Generate two normally-distributed variables, one with a mean of 5 and standard deviation of 0.5, and the other with a mean of 10 and standard deviation of 1."
   ]
  },
  {
   "cell_type": "code",
   "execution_count": 31,
   "metadata": {},
   "outputs": [],
   "source": [
    "distnorm1 = np.random.normal(5, 0.5, 100)\n",
    "distnorm2 = np.random.normal(10, 1, 100)"
   ]
  },
  {
   "cell_type": "markdown",
   "metadata": {},
   "source": [
    "6. Add them together to create a third variable."
   ]
  },
  {
   "cell_type": "code",
   "execution_count": 32,
   "metadata": {},
   "outputs": [],
   "source": [
    "distnormtotal = distnorm1 + distnorm2"
   ]
  },
  {
   "cell_type": "markdown",
   "metadata": {},
   "source": [
    "7. Graph the third variable using a histogram."
   ]
  },
  {
   "cell_type": "markdown",
   "metadata": {},
   "source": [
    "8. Compute the mean and standard deviation and plot them as vertical lines on the histogram."
   ]
  },
  {
   "cell_type": "code",
   "execution_count": 33,
   "metadata": {},
   "outputs": [
    {
     "data": {
      "image/png": "[encoded data removed]",
      "text/plain": [
       "<Figure size 432x288 with 1 Axes>"
      ]
     },
     "metadata": {
      "needs_background": "light"
     },
     "output_type": "display_data"
    }
   ],
   "source": [
    "plt.hist(distnormtotal)\n",
    "\n",
    "plt.axvline(distnormtotal.mean(), color='orange', \n",
    "            linestyle='solid', linewidth=2)\n",
    "plt.axvline(distnormtotal.mean() + distnormtotal.std(), color='orange', \n",
    "            linestyle='dashed', linewidth=2)\n",
    "plt.axvline(distnormtotal.mean() - distnormtotal.std(), color='orange', \n",
    "            linestyle='dashed', linewidth=2)\n",
    "\n",
    "plt.show()"
   ]
  },
  {
   "cell_type": "markdown",
   "metadata": {},
   "source": [
    "9. Evaluate the descriptive statistics against the data."
   ]
  },
  {
   "cell_type": "markdown",
   "metadata": {},
   "source": [
    "__ANSWER:__ The mean is the total of the means of the two individual normal distributions (a little less than 15 due to randomization). I believe the standard deviations should be totaled as well to +/- 1.5, but it seems the standard deviation is closer to 1. I attribute that to randomization as well."
   ]
  },
  {
   "cell_type": "markdown",
   "metadata": {},
   "source": [
    "### Lesson 3 - Part 7: Exploring the Central Limit Theorem\n",
    "\n",
    "\n",
    "Now that you have some code to create your own populations, sample them, and compare the samples to the populations, it's time to experiment. Using your own Jupyter notebook, or a copy of the notebook from the previous assignment, reproduce the pop1 and pop2 populations and samples, using numpy's binomial function. Specifically, create two binomially distributed populations with n equal to 10 and size equal to 10000. The p-value of pop1 should be 0.2 and the p-value of pop2 should be 0.5. \n",
    "\n",
    "For each of the following tasks, first write what you expect will happen, then code the changes and observe what does happen. Discuss the results with your mentor.\n",
    "\n",
    "1. Using a sample size of 100, calculate the means and standard deviations of your samples."
   ]
  },
  {
   "cell_type": "markdown",
   "metadata": {},
   "source": [
    "__ANSWER:__ For a binomial distribution, I expect the distribution to be more or less the same shape as the normal distribution. This is because the probability of getting heads is the same probability of getting tails and thus the graph should appear symmetrical. For pop1, where the probability is .2 and not .5, that probability density shoudl peak at .2 and not .5."
   ]
  },
  {
   "cell_type": "code",
   "execution_count": 43,
   "metadata": {},
   "outputs": [
    {
     "name": "stdout",
     "output_type": "stream",
     "text": [
      "2.2 +/- 1.2569805089976533\n",
      "5.09 +/- 1.5433405327405874\n"
     ]
    }
   ],
   "source": [
    "pop1 = np.random.binomial(10, 0.2, 10000)\n",
    "pop2 = np.random.binomial(10, .5, 10000)\n",
    "\n",
    "# 100 point samples\n",
    "sample1 = np.random.choice(pop1, 100, replace=True)\n",
    "sample2 = np.random.choice(pop2, 100, replace=True)\n",
    "\n",
    "print(str(sample1.mean()) + \" +/- \" + str((sample1.std())))\n",
    "print(str(sample2.mean()) + \" +/- \" + str((sample2.std())))"
   ]
  },
  {
   "cell_type": "markdown",
   "metadata": {},
   "source": [
    "2. Increase the size of your samples from 100 to 1000, then calculate the means and standard deviations for your new samples and create histograms for each. Repeat this again, decreasing the size of your samples to 20. What values change, and what remain the same?"
   ]
  },
  {
   "cell_type": "markdown",
   "metadata": {},
   "source": [
    "__ANSWER:__ Increasing the size of the sample should make the distribution more accurate and refined. Likewise, decreasing the sample size should make the distributions less accurate."
   ]
  },
  {
   "cell_type": "code",
   "execution_count": 44,
   "metadata": {},
   "outputs": [
    {
     "name": "stdout",
     "output_type": "stream",
     "text": [
      "1.983 +/- 1.2347918852988953\n",
      "5.079 +/- 1.668759719072821\n"
     ]
    }
   ],
   "source": [
    "sample1 = np.random.choice(pop1, 1000, replace=True)\n",
    "sample2 = np.random.choice(pop2, 1000, replace=True)\n",
    "print(str(sample1.mean()) + \" +/- \" + str((sample1.std())))\n",
    "print(str(sample2.mean()) + \" +/- \" + str((sample2.std())))"
   ]
  },
  {
   "cell_type": "code",
   "execution_count": 56,
   "metadata": {},
   "outputs": [
    {
     "data": {
      "image/png": "[encoded data removed]",
      "text/plain": [
       "<Figure size 432x288 with 1 Axes>"
      ]
     },
     "metadata": {
      "needs_background": "light"
     },
     "output_type": "display_data"
    }
   ],
   "source": [
    "plt.hist(sample1, alpha=.4, label='Sample 1')\n",
    "plt.hist(sample2, alpha=.4, label='Sample 2')\n",
    "plt.legend()\n",
    "plt.show()"
   ]
  },
  {
   "cell_type": "code",
   "execution_count": 47,
   "metadata": {},
   "outputs": [
    {
     "name": "stdout",
     "output_type": "stream",
     "text": [
      "1.95 +/- 1.2031209415515967\n",
      "5.05 +/- 1.627114009527298\n"
     ]
    }
   ],
   "source": [
    "sample1 = np.random.choice(pop1, 20, replace=True)\n",
    "sample2 = np.random.choice(pop2, 20, replace=True)\n",
    "print(str(sample1.mean()) + \" +/- \" + str((sample1.std())))\n",
    "print(str(sample2.mean()) + \" +/- \" + str((sample2.std())))"
   ]
  },
  {
   "cell_type": "code",
   "execution_count": 55,
   "metadata": {},
   "outputs": [
    {
     "data": {
      "image/png": "[encoded data removed]",
      "text/plain": [
       "<Figure size 432x288 with 1 Axes>"
      ]
     },
     "metadata": {
      "needs_background": "light"
     },
     "output_type": "display_data"
    }
   ],
   "source": [
    "plt.hist(sample1, alpha=.4, label='Sample 1')\n",
    "plt.hist(sample2, alpha=.4, label='Sample 2')\n",
    "plt.legend()\n",
    "plt.show()"
   ]
  },
  {
   "cell_type": "markdown",
   "metadata": {},
   "source": [
    "3. Change the probability value (p in the NumPy documentation) for pop1 to 0.3, then take new samples and compute the t-statistic and p-value. Then change the probability value p for group 1 to 0.4, and do it again. What changes, and why?"
   ]
  },
  {
   "cell_type": "code",
   "execution_count": 49,
   "metadata": {},
   "outputs": [],
   "source": [
    "pop1 = np.random.binomial(10, 0.3, 10000) # returning it to 10000 size and then take another 100 sample\n",
    "pop2 = np.random.binomial(10, .5, 10000) # assuming we're still using this"
   ]
  },
  {
   "cell_type": "code",
   "execution_count": 50,
   "metadata": {},
   "outputs": [],
   "source": [
    "import scipy\n",
    "from scipy.stats import ttest_ind\n"
   ]
  },
  {
   "cell_type": "code",
   "execution_count": 52,
   "metadata": {},
   "outputs": [
    {
     "name": "stdout",
     "output_type": "stream",
     "text": [
      "Ttest_indResult(statistic=9.238989905973595, pvalue=3.955510949442876e-17)\n"
     ]
    }
   ],
   "source": [
    "sample1 = np.random.choice(pop1, 100, replace=True)\n",
    "sample2 = np.random.choice(pop2, 100, replace=True)\n",
    "print(ttest_ind(sample2, sample1))"
   ]
  },
  {
   "cell_type": "code",
   "execution_count": 53,
   "metadata": {},
   "outputs": [
    {
     "name": "stdout",
     "output_type": "stream",
     "text": [
      "Ttest_indResult(statistic=5.056331483026454, pvalue=9.706638574728847e-07)\n"
     ]
    }
   ],
   "source": [
    "pop1 = np.random.binomial(10, 0.4, 10000)\n",
    "sample1 = np.random.choice(pop1, 100, replace=True)\n",
    "print(ttest_ind(sample2, sample1))"
   ]
  },
  {
   "cell_type": "markdown",
   "metadata": {},
   "source": [
    "__ANSWER:__ As the probability of population 1 becomes more similar to population 2 (i.e., changing p of pop1 from .5 to .4 when comparing to pop2's p of .2), the samples become more similar, thus the t-value becomes smaller and the confidence of the comparison (as measured by the p-value) increases."
   ]
  },
  {
   "cell_type": "markdown",
   "metadata": {},
   "source": [
    "4. Change the distribution of your populations from binomial to a distribution of your choice. Do the sample mean values still accurately represent the population values?"
   ]
  },
  {
   "cell_type": "code",
   "execution_count": 54,
   "metadata": {},
   "outputs": [
    {
     "name": "stdout",
     "output_type": "stream",
     "text": [
      "3.97 +/- 1.459143584435747\n",
      "5.05 +/- 1.5451537140362444\n"
     ]
    }
   ],
   "source": [
    "pop1 = np.random.binomial(10, 0.3, 10000)\n",
    "pop2 = np.random.geometric(.3, 100000)\n",
    "print(str(sample1.mean()) + \" +/- \" + str((sample1.std())))\n",
    "print(str(sample2.mean()) + \" +/- \" + str((sample2.std())))"
   ]
  },
  {
   "cell_type": "code",
   "execution_count": 58,
   "metadata": {},
   "outputs": [
    {
     "data": {
      "image/png": "[encoded data removed]",
      "text/plain": [
       "<Figure size 432x288 with 1 Axes>"
      ]
     },
     "metadata": {
      "needs_background": "light"
     },
     "output_type": "display_data"
    }
   ],
   "source": [
    "sample1 = np.random.choice(pop1, 20, replace=True)\n",
    "sample2 = np.random.choice(pop2, 20, replace=True)\n",
    "\n",
    "plt.hist(sample1, alpha=.4, label='Sample 1')\n",
    "plt.hist(sample2, alpha=.4, label='Sample 2')\n",
    "plt.legend()\n",
    "plt.show()"
   ]
  },
  {
   "cell_type": "code",
   "execution_count": 57,
   "metadata": {},
   "outputs": [
    {
     "data": {
      "image/png": "[encoded data removed]",
      "text/plain": [
       "<Figure size 432x288 with 1 Axes>"
      ]
     },
     "metadata": {
      "needs_background": "light"
     },
     "output_type": "display_data"
    }
   ],
   "source": [
    "sample1 = np.random.choice(pop1, 1000, replace=True)\n",
    "sample2 = np.random.choice(pop2, 1000, replace=True)\n",
    "\n",
    "plt.hist(sample1, alpha=.4, label='Sample 1')\n",
    "plt.hist(sample2, alpha=.4, label='Sample 2')\n",
    "plt.legend()\n",
    "plt.show()"
   ]
  },
  {
   "cell_type": "markdown",
   "metadata": {},
   "source": [
    "__ANSWER:__ Despite having a different distribution, when the population samples increase, more and more similarity exists in the peak because the probabilities are the same (i.e., .3). The whole purpose of this exercise is the demonstrating the Central Limit Theorem.\n",
    "\n",
    "Sample mean values still do represent the population values despite different distributions."
   ]
  }
 ],
 "metadata": {
  "kernelspec": {
   "display_name": "Python 3",
   "language": "python",
   "name": "python3"
  },
  "language_info": {
   "codemirror_mode": {
    "name": "ipython",
    "version": 3
   },
   "file_extension": ".py",
   "mimetype": "text/x-python",
   "name": "python",
   "nbconvert_exporter": "python",
   "pygments_lexer": "ipython3",
   "version": "3.7.0"
  }
 },
 "nbformat": 4,
 "nbformat_minor": 2
}
