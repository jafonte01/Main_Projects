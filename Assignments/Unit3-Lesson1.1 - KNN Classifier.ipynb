{
 "cells": [
  {
   "cell_type": "code",
   "execution_count": 2,
   "metadata": {},
   "outputs": [],
   "source": [
    "import numpy as np\n",
    "import pandas as pd\n",
    "import matplotlib.pyplot as plt\n",
    "import scipy\n",
    "%matplotlib inline"
   ]
  },
  {
   "cell_type": "markdown",
   "metadata": {},
   "source": [
    "### GOAL:\n",
    "\n",
    "1. Instead of using SKLean for KNN Classifiers, create manual classifier.\n",
    "2. Test the accuracy of manual algorithm to the SKLearn Classifier."
   ]
  },
  {
   "cell_type": "code",
   "execution_count": 3,
   "metadata": {},
   "outputs": [
    {
     "data": {
      "image/png": "[encoded data removed]",
      "text/plain": [
       "<Figure size 432x288 with 1 Axes>"
      ]
     },
     "metadata": {
      "needs_background": "light"
     },
     "output_type": "display_data"
    }
   ],
   "source": [
    "# copying and pasting training and testing data from the Lesson's example\n",
    "\n",
    "music = pd.DataFrame()\n",
    "\n",
    "# Some data to play with.\n",
    "music['duration'] = [184, 134, 243, 186, 122, 197, 294, 382, 102, 264, \n",
    "                     205, 110, 307, 110, 397, 153, 190, 192, 210, 403,\n",
    "                     164, 198, 204, 253, 234, 190, 182, 401, 376, 102]\n",
    "music['loudness'] = [18, 34, 43, 36, 22, 9, 29, 22, 10, 24, \n",
    "                     20, 10, 17, 51, 7, 13, 19, 12, 21, 22,\n",
    "                     16, 18, 4, 23, 34, 19, 14, 11, 37, 42]\n",
    "\n",
    "# We know whether the songs in our training data are jazz or not.\n",
    "# (obviously) 1 == yes, 2 == no\n",
    "music['jazz'] = [ 1, 0, 0, 0, 1, 1, 0, 1, 1, 0,\n",
    "                  0, 1, 1, 0, 1, 1, 0, 1, 1, 1,\n",
    "                  1, 1, 1, 1, 0, 0, 1, 1, 0, 0]\n",
    "\n",
    "\n",
    "# Look at our data.\n",
    "plt.scatter(\n",
    "    music[music['jazz'] == 1].duration,\n",
    "    music[music['jazz'] == 1].loudness,\n",
    "    color='red'\n",
    ")\n",
    "plt.scatter(\n",
    "    music[music['jazz'] == 0].duration,\n",
    "    music[music['jazz'] == 0].loudness,\n",
    "    color='blue'\n",
    ")\n",
    "plt.legend(['Jazz', 'Rock'])\n",
    "plt.title('Jazz and Rock Characteristics')\n",
    "plt.xlabel('Duration')\n",
    "plt.ylabel('Loudness')\n",
    "plt.show()"
   ]
  },
  {
   "cell_type": "code",
   "execution_count": 4,
   "metadata": {},
   "outputs": [],
   "source": [
    "# making up some BS training data:\n",
    "\n",
    "music_duration_test = np.array([144,233,241,235,266,400,378,134,167,199,288, 312])\n",
    "music_loudness_test = np.array([14, 17, 25, 60, 44, 42, 41, 37, 29, 30, 17, 23])\n",
    "\n",
    "# ^^ for the record, each array has ELEVEN values"
   ]
  },
  {
   "cell_type": "markdown",
   "metadata": {},
   "source": [
    "Instead of re-inventing the wheel, I am using this knn-from-scratch-tutorial [here](https://machinelearningmastery.com/tutorial-to-implement-k-nearest-neighbors-in-python-from-scratch/)."
   ]
  },
  {
   "cell_type": "code",
   "execution_count": 5,
   "metadata": {},
   "outputs": [],
   "source": [
    "# Establishing a function for calculating distance of neighbors\n",
    "\n",
    "import math\n",
    "def euclideanDistance(instance1, instance2, length):\n",
    "    distance = 0\n",
    "    for x in range(length):\n",
    "        distance += pow((instance1[x] - instance2[x]), 2)\n",
    "    return math.sqrt(distance)"
   ]
  },
  {
   "cell_type": "code",
   "execution_count": 6,
   "metadata": {},
   "outputs": [
    {
     "ename": "SyntaxError",
     "evalue": "Missing parentheses in call to 'print'. Did you mean print(test_dataset)? (<ipython-input-6-01b643ed3e17>, line 39)",
     "output_type": "error",
     "traceback": [
      "\u001b[1;36m  File \u001b[1;32m\"<ipython-input-6-01b643ed3e17>\"\u001b[1;36m, line \u001b[1;32m39\u001b[0m\n\u001b[1;33m    print test_dataset\u001b[0m\n\u001b[1;37m                     ^\u001b[0m\n\u001b[1;31mSyntaxError\u001b[0m\u001b[1;31m:\u001b[0m Missing parentheses in call to 'print'. Did you mean print(test_dataset)?\n"
     ]
    }
   ],
   "source": [
    "# Establishing a function for identifying nearest neighbor(s)\n",
    "\n",
    "#KNN prediction and model training\n",
    "def knn_predict(test_data, train_data, k_value):\n",
    "    for i in test_data:\n",
    "        eu_Distance =[]\n",
    "        knn = []\n",
    "        good = 0\n",
    " \n",
    "        bad = 0\n",
    "        for j in train_data:\n",
    "            eu_dist = euclideanDist(i, j)\n",
    "            eu_Distance.append((j[5], eu_dist))\n",
    "            eu_Distance.sort(key = operator.itemgetter(1))\n",
    "            knn = eu_Distance[:k_value]\n",
    "            for k in knn:\n",
    "                if k[0] =='g':\n",
    "                    good += 1\n",
    "                else:\n",
    "                    bad +=1\n",
    "        if good > bad:\n",
    "            i.append('g')\n",
    "        elif good < bad:\n",
    "            i.append('b')\n",
    "        else:\n",
    "            i.append('NaN')\n",
    "\n",
    "# Accuracy Calculation function\n",
    "def accuracy(test_data):\n",
    "    correct = 0\n",
    "    for i in test_data:\n",
    "        if i[5] == i[6]:\n",
    "            correct += 1\n",
    "    accuracy = float(correct)/len(test_data) *100  #accuracy \n",
    "    return accuracy"
   ]
  },
  {
   "cell_type": "code",
   "execution_count": 7,
   "metadata": {},
   "outputs": [],
   "source": [
    "# let's see if this works\n",
    "trainingset = np.array([music.duration, music.loudness])\n",
    "testInstance = np.array([music_duration_test, music_loudness_test])\n"
   ]
  },
  {
   "cell_type": "code",
   "execution_count": 9,
   "metadata": {},
   "outputs": [],
   "source": [
    "from sklearn.neighbors import KNeighborsClassifier\n",
    "neighbors = KNeighborsClassifier(n_neighbors=5) # using K = 5 here"
   ]
  },
  {
   "cell_type": "code",
   "execution_count": 11,
   "metadata": {},
   "outputs": [],
   "source": [
    "#########\n",
    "\n",
    "# NOW to compare the above accuracy to the SKLearn package\n",
    "music_test = []\n",
    "for (x, y) in zip(music_loudness_test, music_duration_test):\n",
    "    music_tester = [x,y]\n",
    "    music_test.append(music_tester)"
   ]
  },
  {
   "cell_type": "code",
   "execution_count": 12,
   "metadata": {},
   "outputs": [
    {
     "data": {
      "text/plain": [
       "KNeighborsClassifier(algorithm='auto', leaf_size=30, metric='minkowski',\n",
       "           metric_params=None, n_jobs=None, n_neighbors=5, p=2,\n",
       "           weights='uniform')"
      ]
     },
     "execution_count": 12,
     "metadata": {},
     "output_type": "execute_result"
    }
   ],
   "source": [
    "\n",
    "Xtrain = music[['loudness', 'duration']]\n",
    "Ytrain = music.jazz\n",
    "neighbors.fit(Xtrain,Ytrain)"
   ]
  },
  {
   "cell_type": "code",
   "execution_count": 13,
   "metadata": {},
   "outputs": [
    {
     "name": "stdout",
     "output_type": "stream",
     "text": [
      "Predicted to be JAZZ\n",
      "[[0.2 0.8]]\n",
      "\n",
      "\n",
      "Predicted to be ROCK\n",
      "[[0.6 0.4]]\n",
      "\n",
      "\n",
      "Predicted to be ROCK\n",
      "[[0.6 0.4]]\n",
      "\n",
      "\n",
      "Predicted to be ROCK\n",
      "[[0.6 0.4]]\n",
      "\n",
      "\n",
      "Predicted to be ROCK\n",
      "[[0.8 0.2]]\n",
      "\n",
      "\n",
      "Predicted to be JAZZ\n",
      "[[0.2 0.8]]\n",
      "\n",
      "\n",
      "Predicted to be JAZZ\n",
      "[[0.2 0.8]]\n",
      "\n",
      "\n",
      "Predicted to be ROCK\n",
      "[[0.6 0.4]]\n",
      "\n",
      "\n",
      "Predicted to be JAZZ\n",
      "[[0.2 0.8]]\n",
      "\n",
      "\n",
      "Predicted to be ROCK\n",
      "[[0.6 0.4]]\n",
      "\n",
      "\n",
      "Predicted to be ROCK\n",
      "[[0.6 0.4]]\n",
      "\n",
      "\n",
      "Predicted to be ROCK\n",
      "[[0.6 0.4]]\n",
      "\n",
      "\n"
     ]
    }
   ],
   "source": [
    "for x in music_test:\n",
    "    if neighbors.predict([x]) == 1:\n",
    "        print(\"Predicted to be JAZZ\")\n",
    "        print(neighbors.predict_proba([x]))\n",
    "        print(\"\\n\")\n",
    "    else:\n",
    "        print(\"Predicted to be ROCK\")\n",
    "        print(neighbors.predict_proba([x]))\n",
    "        print(\"\\n\")"
   ]
  },
  {
   "cell_type": "code",
   "execution_count": null,
   "metadata": {},
   "outputs": [],
   "source": []
  }
 ],
 "metadata": {
  "kernelspec": {
   "display_name": "Python 3",
   "language": "python",
   "name": "python3"
  }
 },
 "nbformat": 4,
 "nbformat_minor": 2
}
